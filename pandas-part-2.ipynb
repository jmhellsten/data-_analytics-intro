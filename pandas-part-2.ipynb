{
 "cells": [
  {
   "cell_type": "markdown",
   "metadata": {},
   "source": [
    "## Pandas part 2\n",
    "- Use *gamedata.json* file from data_files directory in this exercise. **Important:** Edit the same DataFrame throughout this whole notebook (changes to DataFrame are applied from each task)!"
   ]
  },
  {
   "cell_type": "markdown",
   "metadata": {},
   "source": [
    "1 Read the first 10 objects from the gamedata.json file into the DataFrame. Then read the last five objects from the same file into another DataFrame. Combine these two into one DataFrame."
   ]
  },
  {
   "cell_type": "code",
   "execution_count": 1,
   "metadata": {},
   "outputs": [],
   "source": [
    "import pandas as pd\n",
    "gd = pd.read_json(r\"C:\\Users\\jmhel\\OneDrive\\Työpöytä\\JAMK\\DA & AI\\gamedata.json\") \n",
    "\n",
    "first = gd[:10]\n",
    "second = gd[-5:]\n",
    "\n",
    "combined = pd.concat([first,second])\n",
    "combined.reset_index(inplace=True,drop=True)"
   ]
  },
  {
   "cell_type": "markdown",
   "metadata": {},
   "source": [
    "2 Set *steamRatingPercent* to NaN for all rows having *steamRatingCount* below 1000."
   ]
  },
  {
   "cell_type": "code",
   "execution_count": 2,
   "metadata": {},
   "outputs": [],
   "source": [
    "combined.loc[combined['steamRatingCount'] < 1000, 'steamRatingPercent'] = float('nan')"
   ]
  },
  {
   "cell_type": "markdown",
   "metadata": {},
   "source": [
    "3 Fill all NaN values in *steamRatingPercent* column by increasing the *metacriticScore* from the same row with 7 %."
   ]
  },
  {
   "cell_type": "code",
   "execution_count": 3,
   "metadata": {},
   "outputs": [],
   "source": [
    "combined.loc[combined['steamRatingPercent'].isna(), 'steamRatingPercent'] = (combined.loc[combined['steamRatingPercent'].isna(), 'metacriticScore'] * 1.07).round(2)"
   ]
  },
  {
   "cell_type": "markdown",
   "metadata": {},
   "source": [
    "4 Group the data by *steamRatingText* column so that averages of the following columns will be calculated for each text value: *steamRatingPercent*, *metacriticScore*, *normalPrice* and *salePrice*. Do not show any other columns in the resulting DataFrame."
   ]
  },
  {
   "cell_type": "code",
   "execution_count": 4,
   "metadata": {},
   "outputs": [
    {
     "data": {
      "text/html": [
       "<div>\n",
       "<style scoped>\n",
       "    .dataframe tbody tr th:only-of-type {\n",
       "        vertical-align: middle;\n",
       "    }\n",
       "\n",
       "    .dataframe tbody tr th {\n",
       "        vertical-align: top;\n",
       "    }\n",
       "\n",
       "    .dataframe thead th {\n",
       "        text-align: right;\n",
       "    }\n",
       "</style>\n",
       "<table border=\"1\" class=\"dataframe\">\n",
       "  <thead>\n",
       "    <tr style=\"text-align: right;\">\n",
       "      <th></th>\n",
       "      <th>steamRatingPercent</th>\n",
       "      <th>metacriticScore</th>\n",
       "      <th>normalPrice</th>\n",
       "      <th>salePrice</th>\n",
       "    </tr>\n",
       "    <tr>\n",
       "      <th>steamRatingText</th>\n",
       "      <th></th>\n",
       "      <th></th>\n",
       "      <th></th>\n",
       "      <th></th>\n",
       "    </tr>\n",
       "  </thead>\n",
       "  <tbody>\n",
       "    <tr>\n",
       "      <th>Mostly Negative</th>\n",
       "      <td>43.575000</td>\n",
       "      <td>56.000000</td>\n",
       "      <td>36.490000</td>\n",
       "      <td>6.09</td>\n",
       "    </tr>\n",
       "    <tr>\n",
       "      <th>Mostly Positive</th>\n",
       "      <td>75.328000</td>\n",
       "      <td>70.400000</td>\n",
       "      <td>15.990000</td>\n",
       "      <td>3.14</td>\n",
       "    </tr>\n",
       "    <tr>\n",
       "      <th>Overwhelmingly Positive</th>\n",
       "      <td>96.500000</td>\n",
       "      <td>87.000000</td>\n",
       "      <td>24.990000</td>\n",
       "      <td>2.99</td>\n",
       "    </tr>\n",
       "    <tr>\n",
       "      <th>Very Positive</th>\n",
       "      <td>81.186667</td>\n",
       "      <td>75.333333</td>\n",
       "      <td>15.823333</td>\n",
       "      <td>2.49</td>\n",
       "    </tr>\n",
       "  </tbody>\n",
       "</table>\n",
       "</div>"
      ],
      "text/plain": [
       "                         steamRatingPercent  metacriticScore  normalPrice  \\\n",
       "steamRatingText                                                             \n",
       "Mostly Negative                   43.575000        56.000000    36.490000   \n",
       "Mostly Positive                   75.328000        70.400000    15.990000   \n",
       "Overwhelmingly Positive           96.500000        87.000000    24.990000   \n",
       "Very Positive                     81.186667        75.333333    15.823333   \n",
       "\n",
       "                         salePrice  \n",
       "steamRatingText                     \n",
       "Mostly Negative               6.09  \n",
       "Mostly Positive               3.14  \n",
       "Overwhelmingly Positive       2.99  \n",
       "Very Positive                 2.49  "
      ]
     },
     "execution_count": 4,
     "metadata": {},
     "output_type": "execute_result"
    }
   ],
   "source": [
    "result = combined.groupby('steamRatingText')[['steamRatingPercent', 'metacriticScore', 'normalPrice', 'salePrice']].mean()\n",
    "result"
   ]
  },
  {
   "cell_type": "code",
   "execution_count": null,
   "metadata": {},
   "outputs": [],
   "source": []
  }
 ],
 "metadata": {
  "kernelspec": {
   "display_name": "Python 3 (ipykernel)",
   "language": "python",
   "name": "python3"
  },
  "language_info": {
   "codemirror_mode": {
    "name": "ipython",
    "version": 3
   },
   "file_extension": ".py",
   "mimetype": "text/x-python",
   "name": "python",
   "nbconvert_exporter": "python",
   "pygments_lexer": "ipython3",
   "version": "3.13.2"
  }
 },
 "nbformat": 4,
 "nbformat_minor": 4
}
