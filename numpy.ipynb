{
 "cells": [
  {
   "cell_type": "markdown",
   "metadata": {},
   "source": [
    "## Numpy"
   ]
  },
  {
   "cell_type": "markdown",
   "metadata": {},
   "source": [
    "1 Generate two NumPy arrays so that first array has integers from 10 to 40 (inclusive). Second array should have integers from 220 to 250 (inclusive). Sum these arrays and present the result array."
   ]
  },
  {
   "cell_type": "code",
   "execution_count": 1,
   "metadata": {},
   "outputs": [
    {
     "name": "stdout",
     "output_type": "stream",
     "text": [
      "[230 232 234 236 238 240 242 244 246 248 250 252 254 256 258 260 262 264\n",
      " 266 268 270 272 274 276 278 280 282 284 286 288 290]\n"
     ]
    }
   ],
   "source": [
    "import numpy as np\n",
    "arr1 = np.arange(10, 41)\n",
    "arr2 = np.arange(220, 251)\n",
    "sum_array = arr1 + arr2\n",
    "print(sum_array)"
   ]
  },
  {
   "cell_type": "markdown",
   "metadata": {},
   "source": [
    "2 Generate two-dimensional array with 10 rows and 7 columns containing integers starting from 100."
   ]
  },
  {
   "cell_type": "code",
   "execution_count": 2,
   "metadata": {},
   "outputs": [
    {
     "name": "stdout",
     "output_type": "stream",
     "text": [
      "[[100 101 102 103 104 105 106]\n",
      " [107 108 109 110 111 112 113]\n",
      " [114 115 116 117 118 119 120]\n",
      " [121 122 123 124 125 126 127]\n",
      " [128 129 130 131 132 133 134]\n",
      " [135 136 137 138 139 140 141]\n",
      " [142 143 144 145 146 147 148]\n",
      " [149 150 151 152 153 154 155]\n",
      " [156 157 158 159 160 161 162]\n",
      " [163 164 165 166 167 168 169]]\n"
     ]
    }
   ],
   "source": [
    "arr_2d = np.arange(100, 170).reshape(10, 7)\n",
    "print(arr_2d)"
   ]
  },
  {
   "attachments": {},
   "cell_type": "markdown",
   "metadata": {},
   "source": [
    "3 Generate two one-dimensional arrays having integers between 1-50. First array should have even and second array should have odd numbers. Finally multiply each element from corresponding index positions from these two arrays for the result array. For example [(1 x 2),(3 x 4),(5 x 6),(7 x 8)...]."
   ]
  },
  {
   "cell_type": "code",
   "execution_count": 3,
   "metadata": {},
   "outputs": [
    {
     "name": "stdout",
     "output_type": "stream",
     "text": [
      "[   2   12   30   56   90  132  182  240  306  380  462  552  650  756\n",
      "  870  992 1122 1260 1406 1560 1722 1892 2070 2256 2450]\n"
     ]
    }
   ],
   "source": [
    "even_arr = np.arange(2, 51, 2)\n",
    "odd_arr = np.arange(1, 51, 2)\n",
    "mult_arr = even_arr * odd_arr\n",
    "print(mult_arr)"
   ]
  },
  {
   "attachments": {},
   "cell_type": "markdown",
   "metadata": {},
   "source": [
    "4 Generate two-dimensional array (40 rows, 5 columns) containing random integers between 1 and 1000. Filter the result array so that only numbers divisable with numbers 2 and 5 are presented (number must be divisable with both)."
   ]
  },
  {
   "cell_type": "code",
   "execution_count": 4,
   "metadata": {},
   "outputs": [
    {
     "name": "stdout",
     "output_type": "stream",
     "text": [
      "[ 210  470  460  790  400  300  160  670  660  420  750  850  170  510\n",
      "  270  950 1000  350  100  470]\n"
     ]
    }
   ],
   "source": [
    "random_arr = np.random.randint(1, 1001, size=(40, 5))\n",
    "filtered_arr = random_arr[(random_arr % 2 == 0) & (random_arr % 5 == 0)]\n",
    "print(filtered_arr)"
   ]
  }
 ],
 "metadata": {
  "kernelspec": {
   "display_name": "Python 3 (ipykernel)",
   "language": "python",
   "name": "python3"
  },
  "language_info": {
   "codemirror_mode": {
    "name": "ipython",
    "version": 3
   },
   "file_extension": ".py",
   "mimetype": "text/x-python",
   "name": "python",
   "nbconvert_exporter": "python",
   "pygments_lexer": "ipython3",
   "version": "3.13.2"
  },
  "vscode": {
   "interpreter": {
    "hash": "05cbb8e30cd2cbe161554e93617827c610928832f77224aad1765f5c87120ccf"
   }
  }
 },
 "nbformat": 4,
 "nbformat_minor": 4
}
