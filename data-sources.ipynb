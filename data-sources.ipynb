{
 "cells": [
  {
   "cell_type": "markdown",
   "metadata": {},
   "source": [
    "## Data sources\n",
    "- All files used in this exercise can be found under the Exercises/data_files directory"
   ]
  },
  {
   "attachments": {},
   "cell_type": "markdown",
   "metadata": {},
   "source": [
    "1 Use gamedata.json for this task. This file contains information of games sold through Steam. Parse out the following information from the data (Important: Do not combine these filters, but do them separately!):\n",
    "- TOP 3 highest metacritic score. Present results using the following format: *Title* has metacritic score of *Score* (for example)\n",
    "- Games with price discount being 90 % or more. Present results using the following format: *Title* | Discount: *Savings* (for example Metal Gear Solid V: Ground Zeroes | Discount: 90.090090)\n",
    "- Games having metacritic score higher than steam score. Present results using the following format: *Title* has metacritic score of *MetacriticScore* and steam score of *SteamRatingPercent*"
   ]
  },
  {
   "cell_type": "code",
   "execution_count": 1,
   "metadata": {},
   "outputs": [
    {
     "name": "stdout",
     "output_type": "stream",
     "text": [
      "Star Wars: Knights of the Old Republic has metacritic score of 93\n",
      "Metal Gear Solid V: The Phantom Pain has metacritic score of 91\n",
      "Bayonetta has metacritic score of 90\n"
     ]
    }
   ],
   "source": [
    "# TOP 3 highest metacritic score\n",
    "import json\n",
    "with open(r'C:\\Users\\jmhel\\OneDrive\\Työpöytä\\JAMK\\DA & AI\\gamedata.json') as file:\n",
    "    games=json.load(file)\n",
    "    \n",
    "top_metacritic = sorted(games, key=lambda x: float(x['metacriticScore']), reverse=True)[:3]\n",
    "for game in top_metacritic:\n",
    "    print(f\"{game['title']} has metacritic score of {game['metacriticScore']}\")"
   ]
  },
  {
   "cell_type": "code",
   "execution_count": 2,
   "metadata": {},
   "outputs": [
    {
     "name": "stdout",
     "output_type": "stream",
     "text": [
      "Shadow Tactics: Blades of the Shogun | Discount: 90.022506\n",
      "Airscape: The Fall of Gravity | Discount: 90.180361\n",
      "Making History: The Calm and the Storm | Discount: 90.180361\n",
      "Avencast: Rise of the Mage | Discount: 90.090090\n",
      "Metal Gear Solid V: Ground Zeroes | Discount: 90.045023\n",
      "The Way | Discount: 90.060040\n",
      "Teslagrad | Discount: 90.090090\n",
      "White Wings  | Discount: 90.045023\n",
      "Phantaruk | Discount: 90.180361\n",
      "Oozi Earth Adventure | Discount: 90.180361\n",
      "Lucius | Discount: 90.090090\n",
      "The Long Journey Home | Discount: 90.045023\n",
      "NEON STRUCT | Discount: 90.050028\n",
      "House of Caravan | Discount: 90.180361\n"
     ]
    }
   ],
   "source": [
    "# Games with price discount being 90 % or more\n",
    "high_discount = [game for game in games if float(game['savings']) >= 90]\n",
    "for game in high_discount:\n",
    "    print(f\"{game['title']} | Discount: {game['savings']}\")"
   ]
  },
  {
   "cell_type": "code",
   "execution_count": 3,
   "metadata": {},
   "outputs": [
    {
     "name": "stdout",
     "output_type": "stream",
     "text": [
      "NBA 2K21 has metacritic score of 67 and steam score of 39\n",
      "Commander 85 has metacritic score of 45 and steam score of 35\n",
      "Inversion has metacritic score of 59 and steam score of 57\n",
      "Bionic Commando: Rearmed has metacritic score of 86 and steam score of 71\n",
      "Metal Gear Solid V: The Phantom Pain has metacritic score of 91 and steam score of 90\n",
      "Port Royale 2 has metacritic score of 75 and steam score of 68\n",
      "Project Cars 2 has metacritic score of 84 and steam score of 79\n",
      "Full Spectrum Warrior has metacritic score of 80 and steam score of 65\n",
      "The Long Journey Home has metacritic score of 68 and steam score of 60\n",
      "Star Wars: Knights of the Old Republic has metacritic score of 93 and steam score of 90\n",
      "Starpoint Gemini Warlords has metacritic score of 73 and steam score of 72\n",
      "Tidalis has metacritic score of 75 and steam score of 70\n"
     ]
    }
   ],
   "source": [
    "# Games having metacritic score higher than steam score\n",
    "higher_mc_score = [game for game in games if float(game['metacriticScore']) > float(game['steamRatingPercent'])]\n",
    "for game in higher_mc_score:\n",
    "    print(f\"{game['title']} has metacritic score of {game['metacriticScore']} and steam score of {game['steamRatingPercent']}\")"
   ]
  },
  {
   "cell_type": "markdown",
   "metadata": {},
   "source": [
    "2 Use earthquakes.csv for this task. This file contains information about earthquakes recorded between 1965 and 2016. Earthquake magnitude value describes how strong the earthquake is. Magnitude information can be categorized like presented in the table below (*Source: http://www.geo.mtu.edu/UPSeis/magnitude.html*).\n",
    "\n",
    "| Magnitude       | Class | Effects |\n",
    "|-----------------|-------|---------|\n",
    "| 2.49 or less    | Minor | Usually not felt, but can be recorded by seismograph. |\n",
    "| 2.50 to 5.49    | Light | Often felt, but only causes minor damage. |\n",
    "| 5.50 to 6.09    | Moderate | Slight damage to buildings and other structures. |\n",
    "| 6.10 to 6.99    | Strong | May cause a lot of damage in very populated areas. |\n",
    "| 7.00 to 7.99    | Major | Major earthquake. Serious damage. |\n",
    "| 8.00 or greater | Great | Great earthquake. Can totally destroy communities near the epicenter. |\n",
    "\n",
    "Count how many earthquakes have occurred in each class.\n",
    "\n",
    "<b style=\"color:red;\">Notice:</b> The first value has been modified to be 2.4 or less compared to the original source (has been 2.5 or less)."
   ]
  },
  {
   "cell_type": "code",
   "execution_count": 4,
   "metadata": {},
   "outputs": [
    {
     "name": "stdout",
     "output_type": "stream",
     "text": [
      "Earthquake classification:\n",
      "minor, 0\n",
      "light, 0\n",
      "moderate, 17639\n",
      "strong, 5035\n",
      "major, 698\n",
      "great, 40\n"
     ]
    }
   ],
   "source": [
    "import csv\n",
    "\n",
    "classes = {  \n",
    "\"minor\" : 0,\n",
    "\"light\" : 0,\n",
    "\"moderate\" : 0,\n",
    "\"strong\" : 0,\n",
    "\"major\" : 0,\n",
    "\"great\" : 0\n",
    "}\n",
    "\n",
    "with open(r\"C:\\Users\\jmhel\\OneDrive\\Työpöytä\\JAMK\\DA & AI\\earthquakes.csv\") as file:\n",
    "    eq = csv.reader(file)\n",
    "    next(eq)\n",
    "    for rivi in eq:\n",
    "        magnitude = float(rivi[8])\n",
    "        if magnitude <= 2.49:\n",
    "            classes[\"minor\"] += 1\n",
    "        elif magnitude <= 5.49:\n",
    "            classes[\"light\"] += 1\n",
    "        elif magnitude <= 6.09:\n",
    "            classes[\"moderate\"] += 1\n",
    "        elif magnitude <= 6.99:\n",
    "            classes[\"strong\"] += 1\n",
    "        elif magnitude <= 7.99:\n",
    "            classes[\"major\"] += 1\n",
    "        elif magnitude >= 8.00:\n",
    "            classes[\"great\"] += 1\n",
    "            \n",
    "print(\"Earthquake classification:\")\n",
    "for class_name, quantity in classes.items():\n",
    "    print(f\"{class_name}, {quantity}\")"
   ]
  },
  {
   "cell_type": "markdown",
   "metadata": {},
   "source": [
    "3 Use netflix_titles.xml for this task. This file contains information about Netflix movies and TV shows. **Important:** Movies have duration presented in minutes while TV shows have duration presented in amount of seasons! Parse out the following information from the data and **show only counts** for these (how many instances are returned):\n",
    "- Movies released in 2017\n",
    "- TV show and movie amount (present both counts in separate lines)\n",
    "- Movies with a length between 15 and 20 minutes (values 15 and 20 included)"
   ]
  },
  {
   "cell_type": "code",
   "execution_count": 5,
   "metadata": {},
   "outputs": [
    {
     "name": "stdout",
     "output_type": "stream",
     "text": [
      "744\n"
     ]
    }
   ],
   "source": [
    "# Movies released in 2017\n",
    "import xml.etree.ElementTree as e\n",
    "netflix = r\"C:\\Users\\jmhel\\OneDrive\\Työpöytä\\JAMK\\DA & AI\\netflix_titles.xml\"\n",
    "\n",
    "tree = e.parse(netflix)\n",
    "root = tree.getroot()\n",
    "\n",
    "movies_2017 = 0\n",
    "\n",
    "for row in root:\n",
    "    type = row.find('type').text\n",
    "    release_year = row.find('release_year').text\n",
    "\n",
    "    if type == 'Movie' and release_year == \"2017\":\n",
    "        movies_2017 += 1\n",
    "print(movies_2017)\n"
   ]
  },
  {
   "cell_type": "code",
   "execution_count": 6,
   "metadata": {},
   "outputs": [
    {
     "name": "stdout",
     "output_type": "stream",
     "text": [
      "2410\n",
      "5377\n"
     ]
    }
   ],
   "source": [
    "# TV show count\n",
    "tv_shows = 0\n",
    "\n",
    "for row in root:\n",
    "    type = row.find('type').text\n",
    "\n",
    "    if type == \"TV Show\":\n",
    "        tv_shows  += 1\n",
    "\n",
    "print(tv_shows)\n",
    "\n",
    "# Movie count\n",
    "movies = 0\n",
    "\n",
    "for row in root:\n",
    "    type = row.find('type').text\n",
    "\n",
    "    if type == \"Movie\":\n",
    "        movies += 1\n",
    "print(movies)"
   ]
  },
  {
   "cell_type": "code",
   "execution_count": 7,
   "metadata": {},
   "outputs": [
    {
     "name": "stdout",
     "output_type": "stream",
     "text": [
      "Movies with a length between 15 and 20 minutes: 11\n"
     ]
    }
   ],
   "source": [
    "# Movies with a length between 15 and 20 minutes\n",
    "\n",
    "short_movies = 0\n",
    "\n",
    "for row in root:\n",
    "    type = row.find('type').text\n",
    "    duration = row.find('duration').text\n",
    "\n",
    "    if type == \"Movie\" and duration:\n",
    "        duration_minutes = int(duration.split()[0])\n",
    "        if 15 <= duration_minutes <= 20:\n",
    "            short_movies += 1\n",
    "            \n",
    "print(f\"Movies with a length between 15 and 20 minutes: {short_movies}\")"
   ]
  },
  {
   "cell_type": "markdown",
   "metadata": {},
   "source": [
    "4 Use the following Rest API for this task: https://tie.digitraffic.fi/api/weather/v1/stations/data. Calculate the average for air temperature (ILMA) and humidity (ILMAN_KOSTEUS) values using two decimals."
   ]
  },
  {
   "cell_type": "code",
   "execution_count": 8,
   "metadata": {},
   "outputs": [
    {
     "name": "stdout",
     "output_type": "stream",
     "text": [
      "15.05\n",
      "55.08\n"
     ]
    }
   ],
   "source": [
    "import requests\n",
    "\n",
    "url = \"https://tie.digitraffic.fi/api/weather/v1/stations/data\"\n",
    "\n",
    "req = requests.get(url)\n",
    "req.raise_for_status()\n",
    "\n",
    "data = req.json()\n",
    "\n",
    "temp = []\n",
    "hum = []\n",
    "\n",
    "for station in data['stations']:\n",
    "    for value in station['sensorValues']:\n",
    "        if value['name'] == 'ILMA':\n",
    "            temp.append(value['value'])\n",
    "        if value['name'] == 'ILMAN_KOSTEUS': \n",
    "            hum.append(value['value'])\n",
    "\n",
    "avg_temp = round(sum(temp) / len(temp),2)\n",
    "avg_hum = round(sum(hum) / len(hum),2)\n",
    "\n",
    "print(avg_temp)\n",
    "print(avg_hum)"
   ]
  },
  {
   "cell_type": "code",
   "execution_count": null,
   "metadata": {},
   "outputs": [],
   "source": []
  }
 ],
 "metadata": {
  "kernelspec": {
   "display_name": "Python 3 (ipykernel)",
   "language": "python",
   "name": "python3"
  },
  "language_info": {
   "codemirror_mode": {
    "name": "ipython",
    "version": 3
   },
   "file_extension": ".py",
   "mimetype": "text/x-python",
   "name": "python",
   "nbconvert_exporter": "python",
   "pygments_lexer": "ipython3",
   "version": "3.13.2"
  }
 },
 "nbformat": 4,
 "nbformat_minor": 4
}
