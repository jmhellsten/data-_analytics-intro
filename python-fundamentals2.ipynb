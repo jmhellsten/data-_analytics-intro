{
 "cells": [
  {
   "cell_type": "markdown",
   "metadata": {},
   "source": [
    "## Python fundamentals Part 2"
   ]
  },
  {
   "cell_type": "markdown",
   "metadata": {},
   "source": [
    "1 Create a function which will go through a list called **vars** and save the type of each variable to a new list. The starting information is given in the next cell."
   ]
  },
  {
   "cell_type": "code",
   "execution_count": 1,
   "metadata": {},
   "outputs": [],
   "source": [
    "# Your function here\n",
    "def list_variables(vars):\n",
    "    types_list = [type(var) for var in vars]\n",
    "    return types_list\n",
    "\n",
    "# Test\n",
    "vars = [100,\"Car\",25000,10.0,[\"a\",\"b\",\"c\"],True,(\"a\",\"b\")]"
   ]
  },
  {
   "cell_type": "markdown",
   "metadata": {},
   "source": [
    "2 You are given two lists **l1** and **l2**. Create a function which will take two lists as input and print values that are present in both lists."
   ]
  },
  {
   "cell_type": "code",
   "execution_count": 2,
   "metadata": {},
   "outputs": [],
   "source": [
    "# Your function here\n",
    "def input_and_print(l1,l2):\n",
    "    common = set(l1) & set (l2)\n",
    "    return common\n",
    "\n",
    "# Test\n",
    "l1 = [1,4,5,7,8,9,10]\n",
    "l2 = [1,2,3,5,6,7,9]"
   ]
  },
  {
   "cell_type": "markdown",
   "metadata": {},
   "source": [
    "3 Below is a list containing words. Create a function which returns only words with length of 4 or less."
   ]
  },
  {
   "cell_type": "code",
   "execution_count": 3,
   "metadata": {},
   "outputs": [],
   "source": [
    "# Your function here\n",
    "def short_words(words):\n",
    "    return [word for word in words \n",
    "            if len(word) <= 4]\n",
    "# Test\n",
    "words = [\"bootcamp\",\"yellow\",\"development\",\"full-time\",\"code\",\"fresh\",\"\",\"static\",\"red\",\"advance\",\"mill\",\"story\",\"are\"]"
   ]
  },
  {
   "cell_type": "markdown",
   "metadata": {},
   "source": [
    "4 Create a function which does the following:\n",
    "    - Take list of dictionaries containing information of data loggers presented below as an input\n",
    "    - Iterate through the dictionary and count the total amount of each sensor type. Example: {\"temp\":2,\"hum\":5,\"light\":2,\"noise\":4}.\n",
    "    - Return this dictionary"
   ]
  },
  {
   "cell_type": "code",
   "execution_count": 4,
   "metadata": {},
   "outputs": [],
   "source": [
    "# Data loggers\n",
    "sdata = [{\"ID\":\"logger-1\",\"sensors\":[\"temp\",\"hum\",\"noise\"]},\n",
    "         {\"ID\":\"logger-2\",\"sensors\":[\"temp\",\"hum\"]},\n",
    "         {\"ID\":\"logger-3\",\"sensors\":[\"temp\",\"hum\",\"light\"]},\n",
    "         {\"ID\":\"logger-4\",\"sensors\":[\"temp\",\"hum\",\"light\"]},\n",
    "         {\"ID\":\"logger-5\",\"sensors\":[\"temp\",\"hum\",\"noise\",\"light\"]}]\n",
    "\n",
    "def sensor_data(sdata):\n",
    "    sensor_count = {}\n",
    "    for entry in sdata:\n",
    "        for sensor in entry[\"sensors\"]:\n",
    "            sensor_count[sensor] = sensor_count.get(sensor, 0) + 1\n",
    "    return sensor_count\n"
   ]
  }
 ],
 "metadata": {
  "kernelspec": {
   "display_name": "Python 3 (ipykernel)",
   "language": "python",
   "name": "python3"
  },
  "language_info": {
   "codemirror_mode": {
    "name": "ipython",
    "version": 3
   },
   "file_extension": ".py",
   "mimetype": "text/x-python",
   "name": "python",
   "nbconvert_exporter": "python",
   "pygments_lexer": "ipython3",
   "version": "3.13.2"
  },
  "vscode": {
   "interpreter": {
    "hash": "05cbb8e30cd2cbe161554e93617827c610928832f77224aad1765f5c87120ccf"
   }
  }
 },
 "nbformat": 4,
 "nbformat_minor": 4
}
